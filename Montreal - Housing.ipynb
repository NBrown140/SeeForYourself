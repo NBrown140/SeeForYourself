{
 "cells": [
  {
   "cell_type": "markdown",
   "metadata": {},
   "source": [
    "extracting tabular data from pdf:\n",
    "https://www.binpress.com/tutorial/manipulating-pdfs-with-python/167\n",
    "\n",
    "Canada Housing and Morgage Corporation:\n",
    "http://www.cmhc-schl.gc.ca/en/hoficlincl/homain/stda/\n",
    "\n",
    "https://www03.cmhc-schl.gc.ca/hmiportal/en/#Profile/1/1/Canada\n",
    "\n"
   ]
  },
  {
   "cell_type": "code",
   "execution_count": null,
   "metadata": {
    "collapsed": true
   },
   "outputs": [],
   "source": []
  }
 ],
 "metadata": {
  "kernelspec": {
   "display_name": "Python 2",
   "language": "python",
   "name": "python2"
  },
  "language_info": {
   "codemirror_mode": {
    "name": "ipython",
    "version": 2
   },
   "file_extension": ".py",
   "mimetype": "text/x-python",
   "name": "python",
   "nbconvert_exporter": "python",
   "pygments_lexer": "ipython2",
   "version": "2.7.10"
  }
 },
 "nbformat": 4,
 "nbformat_minor": 0
}
