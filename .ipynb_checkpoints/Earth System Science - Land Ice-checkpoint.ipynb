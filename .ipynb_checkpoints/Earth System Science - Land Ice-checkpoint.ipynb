{
 "cells": [
  {
   "cell_type": "markdown",
   "metadata": {},
   "source": [
    "Greenland\n",
    "https://www.youtube.com/watch?t=61&v=u0VbPE0TOtQ\n",
    "\n",
    "Antarctica\n",
    "\n",
    "Mountain Glaciers"
   ]
  },
  {
   "cell_type": "markdown",
   "metadata": {},
   "source": [
    "GRACE data"
   ]
  },
  {
   "cell_type": "markdown",
   "metadata": {},
   "source": [
    "http://climate.nasa.gov/vital-signs/land-ice/\n",
    "\n",
    "http://nsidc.org/data/search/#keywords=ice+sheets/sortKeys=score,,desc/facetFilters=%257B%257D/pageNumber=1/itemsPerPage=25"
   ]
  },
  {
   "cell_type": "code",
   "execution_count": null,
   "metadata": {
    "collapsed": true
   },
   "outputs": [],
   "source": []
  }
 ],
 "metadata": {
  "kernelspec": {
   "display_name": "Python 2",
   "language": "python",
   "name": "python2"
  },
  "language_info": {
   "codemirror_mode": {
    "name": "ipython",
    "version": 2
   },
   "file_extension": ".py",
   "mimetype": "text/x-python",
   "name": "python",
   "nbconvert_exporter": "python",
   "pygments_lexer": "ipython2",
   "version": "2.7.10"
  }
 },
 "nbformat": 4,
 "nbformat_minor": 0
}
