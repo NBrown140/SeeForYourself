{
 "cells": [
  {
   "cell_type": "markdown",
   "metadata": {},
   "source": [
    "# Data Sources Compilation\n",
    "\n",
    "## Data Sources\n",
    "\n",
    "### Earth System Science:\n",
    "\n",
    "### Canada:\n",
    "\n",
    "Natural Ressources Canada (NRCan), Energy Use Data Handbook 1990 to 2010, c2013: http://oee.nrcan.gc.ca/publications/statistics/handbook2010/handbook2013.pdf\n",
    "\n",
    "### Quebec:\n",
    "\n",
    "HEC, Etat de l'energie au Quebec, 2015: http://energie.hec.ca/wp-content/uploads/2014/12/EEQ2015_FINAL_2015.pdf\n",
    "\n",
    "### Montreal:\n",
    "\n",
    "### World Stats:\n",
    "\n",
    "FAO: http://faostat3.fao.org/home/E\n",
    "\n",
    "\n",
    "\n",
    "## Tutorials and Technical Info\n",
    "\n",
    "### Pandas tutorials:\n",
    "\n",
    "https://github.com/jreback/PyDataNYC2015/blob/master/tutorial\n",
    "\n"
   ]
  },
  {
   "cell_type": "code",
   "execution_count": null,
   "metadata": {
    "collapsed": true
   },
   "outputs": [],
   "source": []
  }
 ],
 "metadata": {
  "kernelspec": {
   "display_name": "Python 2",
   "language": "python",
   "name": "python2"
  },
  "language_info": {
   "codemirror_mode": {
    "name": "ipython",
    "version": 2
   },
   "file_extension": ".py",
   "mimetype": "text/x-python",
   "name": "python",
   "nbconvert_exporter": "python",
   "pygments_lexer": "ipython2",
   "version": "2.7.10"
  }
 },
 "nbformat": 4,
 "nbformat_minor": 0
}
