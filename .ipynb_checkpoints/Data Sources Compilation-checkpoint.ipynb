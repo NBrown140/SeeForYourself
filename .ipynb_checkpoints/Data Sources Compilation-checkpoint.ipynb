{
 "cells": [
  {
   "cell_type": "markdown",
   "metadata": {},
   "source": [
    "# Data Sources Compilation\n",
    "\n",
    "## Data Sources\n",
    "\n",
    "### Earth System Science:\n",
    "\n",
    "NOAA Paleoclimate Archive: http://www.ncdc.noaa.gov/paleo/paleolim/paleolim_data.html\n",
    "\n",
    "GHG Emissions on a grid (EDGAR): http://edgar.jrc.ec.europa.eu/#\n",
    "\n",
    "### Canada:\n",
    "\n",
    "Trading Economics, Canadian economic indicators: http://www.tradingeconomics.com/canada/indicators\n",
    "\n",
    "Natural Ressources Canada (NRCan), Energy Use Data Handbook 1990 to 2010, c2013: http://oee.nrcan.gc.ca/publications/statistics/handbook2010/handbook2013.pdf\n",
    "\n",
    "Canada Housing and Mortgage Corporation: http://www.cmhc-schl.gc.ca/en/\n",
    "\n",
    "### Quebec:\n",
    "\n",
    "HEC, Etat de l'energie au Quebec, 2015: http://energie.hec.ca/wp-content/uploads/2014/12/EEQ2015_FINAL_2015.pdf\n",
    "\n",
    "### Montreal:\n",
    "\n",
    "Canada Housing and Mortgage Corporation: https://www03.cmhc-schl.gc.ca/catalog/productDetail.cfm?lang=en&cat=94&itm=3&fr=1447439321165\n",
    "\n",
    "### World Stats:\n",
    "\n",
    "International Energy Agency (IEA): http://www.iea.org/statistics/onlinedataservice/\n",
    "\n",
    "HYDE and other databases: http://themasites.pbl.nl/tridion/en/themasites/hyde/consumptiondata/index-2.html\n",
    "\n",
    "The Shift Project, energy stats: http://www.tsp-data-portal.org/\n",
    "\n",
    "FAO: http://faostat3.fao.org/home/E\n",
    "\n",
    "\n",
    "## GIS Data\n",
    "\n",
    "Canada Rivers and lakes: http://geogratis.gc.ca/api/en/nrcan-rncan/ess-sst/fde37108-b3e0-5eba-8d70-abef95494027.html\n",
    "\n",
    "Canada River Basins: http://geogratis.gc.ca/api/en/nrcan-rncan/ess-sst/14f77ebc-5600-5e33-9565-1bd58086f98d.html\n",
    "\n",
    "Canada Wind power potential: http://windatlas.ca/en/maps.php?field=E1&height=50&season=ANU\n",
    "\n",
    "\n",
    "## Cool Websites\n",
    "\n",
    "Awesome near-real-time online viewer: http://earth.nullschool.net/\n",
    "\n",
    "Global Calculator: http://www.globalcalculator.org/\n",
    "\n",
    "Our World in Data: http://ourworldindata.org/\n",
    "\n",
    "\n",
    "\n",
    "## Tutorials and Technical Info\n",
    "\n",
    "### Pandas tutorials:\n",
    "\n",
    "https://github.com/jreback/PyDataNYC2015/blob/master/tutorial\n",
    "\n",
    "pandas pivot table library: http://nicolas.kruchten.com/content/2015/09/jupyter_pivottablejs/\n",
    "\n"
   ]
  },
  {
   "cell_type": "code",
   "execution_count": null,
   "metadata": {
    "collapsed": true
   },
   "outputs": [],
   "source": []
  }
 ],
 "metadata": {
  "kernelspec": {
   "display_name": "Python 2",
   "language": "python",
   "name": "python2"
  },
  "language_info": {
   "codemirror_mode": {
    "name": "ipython",
    "version": 2
   },
   "file_extension": ".py",
   "mimetype": "text/x-python",
   "name": "python",
   "nbconvert_exporter": "python",
   "pygments_lexer": "ipython2",
   "version": "2.7.10"
  }
 },
 "nbformat": 4,
 "nbformat_minor": 0
}
