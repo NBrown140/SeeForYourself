{
 "cells": [
  {
   "cell_type": "markdown",
   "metadata": {},
   "source": [
    "# Sea Level Rise"
   ]
  },
  {
   "cell_type": "markdown",
   "metadata": {},
   "source": [
    "What I want to do with this article, is to take you through the process of looking at data about sea level rise for yourself. Following the theme of this blog, the goal is to provide you- the reader- with a direct look into scientific data regarding sea level rise in the past, present and future. Hopefully, you are willing to learn the basics of the python language, which will allow you to understand (and even criticize) what I show. As much as scientists have an important societal role and should posses a certain authority in their specific fields, I think it is important for anyone who so desires to have the ability to 'see for himself' if the scientists make sense. In my view, this is especially true regarding climate science, due to its strong impact on ongoing and upcoming nation-wide policy changes regarding economic decarbonization and others.\n",
    "\n",
    "With the right guidance, I think it is fairly easy to look into seemingly complex subjects like sea level rise."
   ]
  },
  {
   "cell_type": "markdown",
   "metadata": {},
   "source": [
    "Notes on using ipython notebook:\n",
    "http://jupyter.cs.brynmawr.edu/hub/dblank/public/Jupyter%20Notebook%20Users%20Manual.ipynb\n"
   ]
  },
  {
   "cell_type": "markdown",
   "metadata": {},
   "source": [
    "I assume you have all heard of climate change and the accompanying sea level rise. If not, then take a quick look at [wikipedia's description](https://en.wikipedia.org/wiki/Sea_level_rise). So, the general idea is the following: as the planet warms, water is moved from ice on land (mostly Greenland and Antarctic ice sheets) to water in the ocean, therefore the amount of water in the ocean will increase, forcing all ocean shores further into land. Also thermal expansion of water.\n",
    "\n",
    "The prospect of rising sea level brings up many questions. Questions that are of extreme importance and concern many of the world's biggest cities. **Is sea level currently rising or not? Did it vary 'naturally' in the past and by how much? Does sea level change evenly everywhere in the world? How can we try to predict the rate of future sea level rise? Does Greenland or Antarctica contain more water, and what happens if we completely melt both? What is the probability of that occuring in the next 1000 years?**\n",
    "\n",
    "These are crucial, yet extremely complex questions to answer, so we sometimes might have to settle for best-guess type of answers. Scientists all around the world are currently working on answers. Let's see what they have to say and look at the evidence for ourselves!"
   ]
  },
  {
   "cell_type": "markdown",
   "metadata": {},
   "source": [
    "###Is sea level currently rising?\n",
    "Ok. Let's calculate the Earth's current sea level... wait, what does that even mean? Sea level is a totally abstract concept! The ocean isn't a flat surface, there are tides, currents and waves! If we measure water level at 2 different places or times, we could get completely different answers even if the mean sea level is the same. Ah there it is! What we want is the mean sea level, but calculating it truly would require an infinite amount of measurements of the height of the ocean's whole surface, so that we could average every meter, centimeter, millimeter, etc! Hmmm... That's alright, let's just **estimate** the true value of this abstract mean sea level by using as much information as we can. Alright, well what information *do* we have?\n",
    "\n",
    "\n",
    "Well, I know people have been measuring the sea level at many coastal stations mostly for tide prediction purposes. If we could find enough of these tide gauge stations that recorded over a long enough time, we could at least get a good idea of a direction of change, if any, for the past 50 years perhaps. Another option, would be to use satellite data. In 1992, NASA partenered with the US Space Agency and the CNES (French space agency) to launch the [TOPEX/Poseidon mission](https://en.wikipedia.org/wiki/TOPEX/Poseidon). It's purpose was to measure ocean surface height with a radar altimeter... Seems perfect for our purpose, especially considering there were follow-up missions named Jason-1 and Jason-2 (and a planned Jason-3) to provide continuous data up to this day and in the future.\n",
    "\n",
    "Let's start with gauge station data\n",
    "\n",
    "(John A. Church)\n",
    "http://link.springer.com/article/10.1007%2Fs10712-011-9119-1\n",
    "\n",
    "http://climate.nasa.gov/vital-signs/sea-level/\n",
    "\n",
    "http://www.cmar.csiro.au/sealevel/\n",
    "\n",
    "\n",
    "http://www.codesend.com/view/899eefa2880b6a836fe5ac3896d3e949/\n",
    "\n",
    "http://philippjfr.com/blog/\n",
    "\n",
    "http://www.psmsl.org/products/kml_data/\n",
    "\n",
    "https://www.ipcc.ch/report/ar5/wg1/\n",
    "\n",
    "http://coinatlantic.ca/index.php/climate-change/sea-level-rise\n",
    "\n",
    "papers:\n",
    "http://www.sciencemag.org/content/315/5810/368.short\n",
    "\n",
    "\n",
    "http://www.nature.com/nclimate/journal/v5/n6/full/nclimate2635.html\n",
    "http://www.cmar.csiro.au/sealevel/N_a_altimetry_gmsl_refined.html\n",
    "http://www.cmar.csiro.au/sealevel/sl_hist_last_decades.html\n",
    "\n",
    "other impacts of melting ice sheets\n",
    "http://onlinelibrary.wiley.com/doi/10.1002/2015GL065276/full\n",
    "\n",
    "http://advances.sciencemag.org/content/1/8/e1500589.full-text.pdf+html\n"
   ]
  },
  {
   "cell_type": "markdown",
   "metadata": {
    "collapsed": true
   },
   "source": [
    "### Did sea level vary in the past? If so, by how much and on what timescales?\n",
    "\n"
   ]
  },
  {
   "cell_type": "markdown",
   "metadata": {
    "collapsed": true
   },
   "source": [
    "### How can we try to predict the future rate of seas level rise?"
   ]
  },
  {
   "cell_type": "markdown",
   "metadata": {},
   "source": [
    "### Does Antarctica or Greenland contain more water? What happens if we completely melt both? What is the probability of that occuring in the next 1000 years? Are they currently melting?\n",
    "\n",
    "For \"are they currently melting?\":\n",
    "http://climate.nasa.gov/vital-signs/land-ice/"
   ]
  },
  {
   "cell_type": "markdown",
   "metadata": {
    "collapsed": true
   },
   "source": [
    "### What are the expected regional impacts for Canada and various Pacific islands?\n",
    "\n",
    "Use QGIS to make sea level rise risk maps for Canada, Tuvalu and New Caledonia. "
   ]
  },
  {
   "cell_type": "code",
   "execution_count": null,
   "metadata": {
    "collapsed": true
   },
   "outputs": [],
   "source": []
  },
  {
   "cell_type": "code",
   "execution_count": null,
   "metadata": {
    "collapsed": true
   },
   "outputs": [],
   "source": []
  }
 ],
 "metadata": {
  "kernelspec": {
   "display_name": "Python 2",
   "language": "python",
   "name": "python2"
  },
  "language_info": {
   "codemirror_mode": {
    "name": "ipython",
    "version": 2
   },
   "file_extension": ".py",
   "mimetype": "text/x-python",
   "name": "python",
   "nbconvert_exporter": "python",
   "pygments_lexer": "ipython2",
   "version": "2.7.10"
  }
 },
 "nbformat": 4,
 "nbformat_minor": 0
}
