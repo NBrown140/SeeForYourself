{
 "cells": [
  {
   "cell_type": "markdown",
   "metadata": {},
   "source": [
    "To make good webpage from jupyter notebook: http://predictablynoisy.com/blogging-in-wordpress-with-ipython-jupyter-notebooks/"
   ]
  },
  {
   "cell_type": "markdown",
   "metadata": {},
   "source": [
    "# Atmospheric CO<sub>2</sub>"
   ]
  },
  {
   "cell_type": "markdown",
   "metadata": {},
   "source": [
    "What is CO2? Why is it important?\n",
    "\n",
    "Look into CDIAC for awesome free data:\n",
    "http://cdiac.ornl.gov/\n"
   ]
  },
  {
   "cell_type": "markdown",
   "metadata": {},
   "source": [
    "### Is atmospheric CO<sub>2</sub>'s partial pressure currently increasing?\n",
    "\n",
    "http://climate.nasa.gov/vital-signs/carbon-dioxide/"
   ]
  },
  {
   "cell_type": "code",
   "execution_count": 1,
   "metadata": {
    "collapsed": false,
    "scrolled": true
   },
   "outputs": [],
   "source": [
    "%matplotlib inline \n",
    "import matplotlib\n",
    "import matplotlib.pyplot as plt\n",
    "import time\n",
    "import os\n",
    "import pandas as pd\n",
    "import numpy as np\n",
    "import urllib\n",
    "\n",
    "matplotlib.style.use('ggplot')"
   ]
  },
  {
   "cell_type": "code",
   "execution_count": 2,
   "metadata": {
    "collapsed": false
   },
   "outputs": [
    {
     "name": "stdout",
     "output_type": "stream",
     "text": [
      "co2_mm_mlo.txt checked out on Wed Jan 20 16:26:39 2016.\n"
     ]
    }
   ],
   "source": [
    "file = urllib.URLopener()\n",
    "txtfile = file.retrieve('ftp://aftp.cmdl.noaa.gov/products/trends/co2/co2_mm_mlo.txt','co2_mm_mlo.txt')\n",
    "print 'co2_mm_mlo.txt checked out on '+time.ctime(os.path.getmtime('co2_mm_mlo.txt'))+'.'\n",
    "\n",
    "content = []\n",
    "with open('co2_mm_mlo.txt', 'r+') as f:\n",
    "    content=f.readlines()"
   ]
  },
  {
   "cell_type": "code",
   "execution_count": 4,
   "metadata": {
    "collapsed": false
   },
   "outputs": [
    {
     "data": {
      "text/plain": [
       "['# --------------------------------------------------------------------\\n',\n",
       " '# USE OF NOAA ESRL DATA\\n',\n",
       " '# \\n',\n",
       " '# These data are made freely available to the public and the\\n',\n",
       " '# scientific community in the belief that their wide dissemination\\n',\n",
       " '# will lead to greater understanding and new scientific insights.\\n',\n",
       " '# The availability of these data does not constitute publication\\n',\n",
       " '# of the data.  NOAA relies on the ethics and integrity of the user to\\n',\n",
       " '# insure that ESRL receives fair credit for their work.  If the data \\n',\n",
       " '# are obtained for potential use in a publication or presentation, \\n',\n",
       " '# ESRL should be informed at the outset of the nature of this work.  \\n',\n",
       " '# If the ESRL data are essential to the work, or if an important \\n',\n",
       " '# result or conclusion depends on the ESRL data, co-authorship\\n',\n",
       " '# may be appropriate.  This should be discussed at an early stage in\\n',\n",
       " '# the work.  Manuscripts using the ESRL data should be sent to ESRL\\n',\n",
       " '# for review before they are submitted for publication so we can\\n',\n",
       " '# insure that the quality and limitations of the data are accurately\\n',\n",
       " '# represented.\\n',\n",
       " '# \\n',\n",
       " '# Contact:   Pieter Tans (303 497 6678; pieter.tans@noaa.gov)\\n',\n",
       " '# \\n',\n",
       " '# File Creation:  Tue Jan  5 09:41:13 2016\\n',\n",
       " '# \\n',\n",
       " '# RECIPROCITY\\n',\n",
       " '# \\n',\n",
       " '# Use of these data implies an agreement to reciprocate.\\n',\n",
       " '# Laboratories making similar measurements agree to make their\\n',\n",
       " '# own data available to the general public and to the scientific\\n',\n",
       " '# community in an equally complete and easily accessible form.\\n',\n",
       " '# Modelers are encouraged to make available to the community,\\n',\n",
       " '# upon request, their own tools used in the interpretation\\n',\n",
       " '# of the ESRL data, namely well documented model code, transport\\n',\n",
       " '# fields, and additional information necessary for other\\n',\n",
       " '# scientists to repeat the work and to run modified versions.\\n',\n",
       " '# Model availability includes collaborative support for new\\n',\n",
       " '# users of the models.\\n',\n",
       " '# --------------------------------------------------------------------\\n',\n",
       " '#  \\n',\n",
       " '#  \\n',\n",
       " '# See www.esrl.noaa.gov/gmd/ccgg/trends/ for additional details.\\n',\n",
       " '#  \\n',\n",
       " '# Data from March 1958 through April 1974 have been obtained by C. David Keeling\\n',\n",
       " '# of the Scripps Institution of Oceanography (SIO) and were obtained from the\\n',\n",
       " '# Scripps website (scrippsco2.ucsd.edu).\\n',\n",
       " '#\\n',\n",
       " '# The \"average\" column contains the monthly mean CO2 mole fraction determined\\n',\n",
       " '# from daily averages.  The mole fraction of CO2, expressed as parts per million\\n',\n",
       " '# (ppm) is the number of molecules of CO2 in every one million molecules of dried\\n',\n",
       " '# air (water vapor removed).  If there are missing days concentrated either early\\n',\n",
       " '# or late in the month, the monthly mean is corrected to the middle of the month\\n',\n",
       " '# using the average seasonal cycle.  Missing months are denoted by -99.99.\\n',\n",
       " '# The \"interpolated\" column includes average values from the preceding column\\n',\n",
       " '# and interpolated values where data are missing.  Interpolated values are\\n',\n",
       " '# computed in two steps.  First, we compute for each month the average seasonal\\n',\n",
       " '# cycle in a 7-year window around each monthly value.  In this way the seasonal\\n',\n",
       " '# cycle is allowed to change slowly over time.  We then determine the \"trend\"\\n',\n",
       " '# value for each month by removing the seasonal cycle; this result is shown in\\n',\n",
       " '# the \"trend\" column.  Trend values are linearly interpolated for missing months.\\n',\n",
       " '# The interpolated monthly mean is then the sum of the average seasonal cycle\\n',\n",
       " '# value and the trend value for the missing month.\\n',\n",
       " '#\\n',\n",
       " '# NOTE: In general, the data presented for the last year are subject to change, \\n',\n",
       " '# depending on recalibration of the reference gas mixtures used, and other quality\\n',\n",
       " '# control procedures. Occasionally, earlier years may also be changed for the same\\n',\n",
       " '# reasons.  Usually these changes are minor.\\n',\n",
       " '#\\n',\n",
       " '# CO2 expressed as a mole fraction in dry air, micromol/mol, abbreviated as ppm\\n',\n",
       " '#\\n',\n",
       " '#  (-99.99 missing data;  -1 no data for #daily means in month)\\n',\n",
       " '#\\n',\n",
       " '#            decimal     average   interpolated    trend    #days\\n',\n",
       " '#             date                             (season corr)\\n',\n",
       " '1958   3    1958.208      315.71      315.71      314.62     -1\\n',\n",
       " '1958   4    1958.292      317.45      317.45      315.29     -1\\n',\n",
       " '1958   5    1958.375      317.50      317.50      314.71     -1\\n',\n",
       " '1958   6    1958.458      -99.99      317.10      314.85     -1\\n',\n",
       " '1958   7    1958.542      315.86      315.86      314.98     -1\\n',\n",
       " '1958   8    1958.625      314.93      314.93      315.94     -1\\n',\n",
       " '1958   9    1958.708      313.20      313.20      315.91     -1\\n',\n",
       " '1958  10    1958.792      -99.99      312.66      315.61     -1\\n',\n",
       " '1958  11    1958.875      313.33      313.33      315.31     -1\\n',\n",
       " '1958  12    1958.958      314.67      314.67      315.61     -1\\n',\n",
       " '1959   1    1959.042      315.62      315.62      315.70     -1\\n',\n",
       " '1959   2    1959.125      316.38      316.38      315.88     -1\\n',\n",
       " '1959   3    1959.208      316.71      316.71      315.62     -1\\n',\n",
       " '1959   4    1959.292      317.72      317.72      315.56     -1\\n',\n",
       " '1959   5    1959.375      318.29      318.29      315.50     -1\\n',\n",
       " '1959   6    1959.458      318.15      318.15      315.92     -1\\n',\n",
       " '1959   7    1959.542      316.54      316.54      315.66     -1\\n',\n",
       " '1959   8    1959.625      314.80      314.80      315.81     -1\\n',\n",
       " '1959   9    1959.708      313.84      313.84      316.55     -1\\n',\n",
       " '1959  10    1959.792      313.26      313.26      316.19     -1\\n',\n",
       " '1959  11    1959.875      314.80      314.80      316.78     -1\\n',\n",
       " '1959  12    1959.958      315.58      315.58      316.52     -1\\n',\n",
       " '1960   1    1960.042      316.43      316.43      316.51     -1\\n',\n",
       " '1960   2    1960.125      316.97      316.97      316.47     -1\\n',\n",
       " '1960   3    1960.208      317.58      317.58      316.49     -1\\n',\n",
       " '1960   4    1960.292      319.02      319.02      316.86     -1\\n',\n",
       " '1960   5    1960.375      320.03      320.03      317.24     -1\\n',\n",
       " '1960   6    1960.458      319.59      319.59      317.36     -1\\n']"
      ]
     },
     "execution_count": 4,
     "metadata": {},
     "output_type": "execute_result"
    }
   ],
   "source": [
    "content[:100]"
   ]
  },
  {
   "cell_type": "markdown",
   "metadata": {},
   "source": [
    "So here's the data! What did I do to show it to you? Well, you can look directly at the code to see what I did. Without going into the code's details, I downloaded the text file locally from NOAA's website, then I transfered each line of the text file in a python list. That list is what was printed to the screen.\n",
    "\n",
    "You should definitely read a bit of the documentation provided in the header (first lines) of the data file. At least understand how the measurements are made. I've also found this [webpage](http://www.esrl.noaa.gov/gmd/ccgg/about/co2_measurements.html) from NOAA that explains how they measure CO<sub>2</sub> at the Mauna Loa observatory. Essentially, scientists take air samples and measure the absorbance of light emitted at certain wavelengths to determine the concentration of CO<sub>2</sub> molecules in the air sample.\n",
    "\n",
    "First thing you'll notice is that there's a '\\n\\' at the end of each line; this is just an artefact of how a text file stores the information that 'there is a next line'. Since we'll be converting everything back to a text file later, let's ignore the '\\n\\'.\n",
    "\n",
    "Second thing you'll notice is that the text file starts with a large header filled with information about the following data. I encourage you to read it. This way, you can get a good idea of how the data was obtained or you can usually, at least, get a link to another webpage/publication where you can find all the data's information.\n",
    "\n",
    "Last thing to notice is the data itself. The data is arranged in columns separated by spaces. Notice how there are either 2,3,4,5 or 6 spaces delimiting each column. That's not ideal! We will need to clean up the data before we can import it into a pandas dataframe for easy plotting and calculations.\n",
    "\n",
    "Let's standardize all spaces between data columns to 4 spaces."
   ]
  },
  {
   "cell_type": "code",
   "execution_count": 5,
   "metadata": {
    "collapsed": false
   },
   "outputs": [],
   "source": [
    "def standardize_txt(in_txt,out_txt,startLine):\n",
    "    with open(in_txt, 'r+') as f:\n",
    "        content=f.readlines()\n",
    "        #standardize delimiters\n",
    "        for i in range(startLine,len(content)):\n",
    "            content[i]=content[i].replace(' ','DUMMY')\n",
    "            content[i]=content[i].replace('DUMMYDUMMYDUMMYDUMMYDUMMYDUMMY','    ')\n",
    "            content[i]=content[i].replace('DUMMYDUMMYDUMMYDUMMYDUMMY','    ')\n",
    "            content[i]=content[i].replace('DUMMYDUMMYDUMMYDUMMY','    ')\n",
    "            content[i]=content[i].replace('DUMMYDUMMYDUMMY','    ')\n",
    "            content[i]=content[i].replace('DUMMYDUMMY','    ')\n",
    "            content[i]=content[i].replace('DUMMY','    ')\n",
    "            f.close()\n",
    "        \n",
    "    with open(out_txt, 'w') as f:\n",
    "        f.writelines(content)\n",
    "        f.close()\n",
    "        \n",
    "standardize_txt('co2_mm_mlo.txt','co2_mm_mlo_stddel.txt',72)"
   ]
  },
  {
   "cell_type": "code",
   "execution_count": 6,
   "metadata": {
    "collapsed": false
   },
   "outputs": [
    {
     "data": {
      "text/plain": [
       "['# --------------------------------------------------------------------\\n',\n",
       " '# USE OF NOAA ESRL DATA\\n',\n",
       " '# \\n',\n",
       " '# These data are made freely available to the public and the\\n',\n",
       " '# scientific community in the belief that their wide dissemination\\n',\n",
       " '# will lead to greater understanding and new scientific insights.\\n',\n",
       " '# The availability of these data does not constitute publication\\n',\n",
       " '# of the data.  NOAA relies on the ethics and integrity of the user to\\n',\n",
       " '# insure that ESRL receives fair credit for their work.  If the data \\n',\n",
       " '# are obtained for potential use in a publication or presentation, \\n',\n",
       " '# ESRL should be informed at the outset of the nature of this work.  \\n',\n",
       " '# If the ESRL data are essential to the work, or if an important \\n',\n",
       " '# result or conclusion depends on the ESRL data, co-authorship\\n',\n",
       " '# may be appropriate.  This should be discussed at an early stage in\\n',\n",
       " '# the work.  Manuscripts using the ESRL data should be sent to ESRL\\n',\n",
       " '# for review before they are submitted for publication so we can\\n',\n",
       " '# insure that the quality and limitations of the data are accurately\\n',\n",
       " '# represented.\\n',\n",
       " '# \\n',\n",
       " '# Contact:   Pieter Tans (303 497 6678; pieter.tans@noaa.gov)\\n',\n",
       " '# \\n',\n",
       " '# File Creation:  Tue Jan  5 09:41:13 2016\\n',\n",
       " '# \\n',\n",
       " '# RECIPROCITY\\n',\n",
       " '# \\n',\n",
       " '# Use of these data implies an agreement to reciprocate.\\n',\n",
       " '# Laboratories making similar measurements agree to make their\\n',\n",
       " '# own data available to the general public and to the scientific\\n',\n",
       " '# community in an equally complete and easily accessible form.\\n',\n",
       " '# Modelers are encouraged to make available to the community,\\n',\n",
       " '# upon request, their own tools used in the interpretation\\n',\n",
       " '# of the ESRL data, namely well documented model code, transport\\n',\n",
       " '# fields, and additional information necessary for other\\n',\n",
       " '# scientists to repeat the work and to run modified versions.\\n',\n",
       " '# Model availability includes collaborative support for new\\n',\n",
       " '# users of the models.\\n',\n",
       " '# --------------------------------------------------------------------\\n',\n",
       " '#  \\n',\n",
       " '#  \\n',\n",
       " '# See www.esrl.noaa.gov/gmd/ccgg/trends/ for additional details.\\n',\n",
       " '#  \\n',\n",
       " '# Data from March 1958 through April 1974 have been obtained by C. David Keeling\\n',\n",
       " '# of the Scripps Institution of Oceanography (SIO) and were obtained from the\\n',\n",
       " '# Scripps website (scrippsco2.ucsd.edu).\\n',\n",
       " '#\\n',\n",
       " '# The \"average\" column contains the monthly mean CO2 mole fraction determined\\n',\n",
       " '# from daily averages.  The mole fraction of CO2, expressed as parts per million\\n',\n",
       " '# (ppm) is the number of molecules of CO2 in every one million molecules of dried\\n',\n",
       " '# air (water vapor removed).  If there are missing days concentrated either early\\n',\n",
       " '# or late in the month, the monthly mean is corrected to the middle of the month\\n',\n",
       " '# using the average seasonal cycle.  Missing months are denoted by -99.99.\\n',\n",
       " '# The \"interpolated\" column includes average values from the preceding column\\n',\n",
       " '# and interpolated values where data are missing.  Interpolated values are\\n',\n",
       " '# computed in two steps.  First, we compute for each month the average seasonal\\n',\n",
       " '# cycle in a 7-year window around each monthly value.  In this way the seasonal\\n',\n",
       " '# cycle is allowed to change slowly over time.  We then determine the \"trend\"\\n',\n",
       " '# value for each month by removing the seasonal cycle; this result is shown in\\n',\n",
       " '# the \"trend\" column.  Trend values are linearly interpolated for missing months.\\n',\n",
       " '# The interpolated monthly mean is then the sum of the average seasonal cycle\\n',\n",
       " '# value and the trend value for the missing month.\\n',\n",
       " '#\\n',\n",
       " '# NOTE: In general, the data presented for the last year are subject to change, \\n',\n",
       " '# depending on recalibration of the reference gas mixtures used, and other quality\\n',\n",
       " '# control procedures. Occasionally, earlier years may also be changed for the same\\n',\n",
       " '# reasons.  Usually these changes are minor.\\n',\n",
       " '#\\n',\n",
       " '# CO2 expressed as a mole fraction in dry air, micromol/mol, abbreviated as ppm\\n',\n",
       " '#\\n',\n",
       " '#  (-99.99 missing data;  -1 no data for #daily means in month)\\n',\n",
       " '#\\n',\n",
       " '#            decimal     average   interpolated    trend    #days\\n',\n",
       " '#             date                             (season corr)\\n',\n",
       " '1958   3    1958.208      315.71      315.71      314.62     -1\\n',\n",
       " '1958   4    1958.292      317.45      317.45      315.29     -1\\n',\n",
       " '1958   5    1958.375      317.50      317.50      314.71     -1\\n',\n",
       " '1958   6    1958.458      -99.99      317.10      314.85     -1\\n',\n",
       " '1958   7    1958.542      315.86      315.86      314.98     -1\\n',\n",
       " '1958   8    1958.625      314.93      314.93      315.94     -1\\n',\n",
       " '1958   9    1958.708      313.20      313.20      315.91     -1\\n',\n",
       " '1958  10    1958.792      -99.99      312.66      315.61     -1\\n',\n",
       " '1958  11    1958.875      313.33      313.33      315.31     -1\\n',\n",
       " '1958  12    1958.958      314.67      314.67      315.61     -1\\n',\n",
       " '1959   1    1959.042      315.62      315.62      315.70     -1\\n',\n",
       " '1959   2    1959.125      316.38      316.38      315.88     -1\\n',\n",
       " '1959   3    1959.208      316.71      316.71      315.62     -1\\n',\n",
       " '1959   4    1959.292      317.72      317.72      315.56     -1\\n',\n",
       " '1959   5    1959.375      318.29      318.29      315.50     -1\\n',\n",
       " '1959   6    1959.458      318.15      318.15      315.92     -1\\n',\n",
       " '1959   7    1959.542      316.54      316.54      315.66     -1\\n',\n",
       " '1959   8    1959.625      314.80      314.80      315.81     -1\\n',\n",
       " '1959   9    1959.708      313.84      313.84      316.55     -1\\n',\n",
       " '1959  10    1959.792      313.26      313.26      316.19     -1\\n',\n",
       " '1959  11    1959.875      314.80      314.80      316.78     -1\\n',\n",
       " '1959  12    1959.958      315.58      315.58      316.52     -1\\n',\n",
       " '1960   1    1960.042      316.43      316.43      316.51     -1\\n',\n",
       " '1960   2    1960.125      316.97      316.97      316.47     -1\\n',\n",
       " '1960   3    1960.208      317.58      317.58      316.49     -1\\n',\n",
       " '1960   4    1960.292      319.02      319.02      316.86     -1\\n',\n",
       " '1960   5    1960.375      320.03      320.03      317.24     -1\\n',\n",
       " '1960   6    1960.458      319.59      319.59      317.36     -1\\n']"
      ]
     },
     "execution_count": 6,
     "metadata": {},
     "output_type": "execute_result"
    }
   ],
   "source": [
    "content[:100]"
   ]
  },
  {
   "cell_type": "markdown",
   "metadata": {},
   "source": [
    "That's better! There is now a standard delimiter of 4 spaces. Note that if we had wanted to import the data into Excel, this problem would not have presented itself, because Excel can recognize different column delimiters.\n",
    "\n",
    "So, let's import the data into a pandas dataframe."
   ]
  },
  {
   "cell_type": "code",
   "execution_count": 7,
   "metadata": {
    "collapsed": false
   },
   "outputs": [],
   "source": [
    "# Now that the file has been cleaned up, we can easily read it into a pandas dataframe.\n",
    "co2_maunaLoa = pd.read_csv('co2_mm_mlo_stddel.txt',sep='    ', engine='python', comment='#', \\\n",
    "na_values=[-99.99,-1],names=['Year','Month','Decimal Date','ML Monthly Average','ML Interpolated','ML Trend','#Days'], \\\n",
    "parse_dates=['Decimal Date'], index_col=['Decimal Date'])"
   ]
  },
  {
   "cell_type": "code",
   "execution_count": 8,
   "metadata": {
    "collapsed": false
   },
   "outputs": [
    {
     "name": "stdout",
     "output_type": "stream",
     "text": [
      "<class 'pandas.core.frame.DataFrame'>\n"
     ]
    },
    {
     "data": {
      "text/html": [
       "<div style=\"max-height:1000px;max-width:1500px;overflow:auto;\">\n",
       "<table border=\"1\" class=\"dataframe\">\n",
       "  <thead>\n",
       "    <tr style=\"text-align: right;\">\n",
       "      <th></th>\n",
       "      <th>Year</th>\n",
       "      <th>Month</th>\n",
       "      <th>ML Monthly Average</th>\n",
       "      <th>ML Interpolated</th>\n",
       "      <th>ML Trend</th>\n",
       "      <th>#Days</th>\n",
       "    </tr>\n",
       "    <tr>\n",
       "      <th>Decimal Date</th>\n",
       "      <th></th>\n",
       "      <th></th>\n",
       "      <th></th>\n",
       "      <th></th>\n",
       "      <th></th>\n",
       "      <th></th>\n",
       "    </tr>\n",
       "  </thead>\n",
       "  <tbody>\n",
       "    <tr>\n",
       "      <th>1958.208</th>\n",
       "      <td> 1958</td>\n",
       "      <td> 3</td>\n",
       "      <td> 315.71</td>\n",
       "      <td> 315.71</td>\n",
       "      <td> 314.62</td>\n",
       "      <td>NaN</td>\n",
       "    </tr>\n",
       "    <tr>\n",
       "      <th>1958.292</th>\n",
       "      <td> 1958</td>\n",
       "      <td> 4</td>\n",
       "      <td> 317.45</td>\n",
       "      <td> 317.45</td>\n",
       "      <td> 315.29</td>\n",
       "      <td>NaN</td>\n",
       "    </tr>\n",
       "    <tr>\n",
       "      <th>1958.375</th>\n",
       "      <td> 1958</td>\n",
       "      <td> 5</td>\n",
       "      <td> 317.50</td>\n",
       "      <td> 317.50</td>\n",
       "      <td> 314.71</td>\n",
       "      <td>NaN</td>\n",
       "    </tr>\n",
       "    <tr>\n",
       "      <th>1958.458</th>\n",
       "      <td> 1958</td>\n",
       "      <td> 6</td>\n",
       "      <td>    NaN</td>\n",
       "      <td> 317.10</td>\n",
       "      <td> 314.85</td>\n",
       "      <td>NaN</td>\n",
       "    </tr>\n",
       "    <tr>\n",
       "      <th>1958.542</th>\n",
       "      <td> 1958</td>\n",
       "      <td> 7</td>\n",
       "      <td> 315.86</td>\n",
       "      <td> 315.86</td>\n",
       "      <td> 314.98</td>\n",
       "      <td>NaN</td>\n",
       "    </tr>\n",
       "  </tbody>\n",
       "</table>\n",
       "</div>"
      ],
      "text/plain": [
       "              Year  Month  ML Monthly Average  ML Interpolated  ML Trend  \\\n",
       "Decimal Date                                                               \n",
       "1958.208      1958      3              315.71           315.71    314.62   \n",
       "1958.292      1958      4              317.45           317.45    315.29   \n",
       "1958.375      1958      5              317.50           317.50    314.71   \n",
       "1958.458      1958      6                 NaN           317.10    314.85   \n",
       "1958.542      1958      7              315.86           315.86    314.98   \n",
       "\n",
       "              #Days  \n",
       "Decimal Date         \n",
       "1958.208        NaN  \n",
       "1958.292        NaN  \n",
       "1958.375        NaN  \n",
       "1958.458        NaN  \n",
       "1958.542        NaN  "
      ]
     },
     "execution_count": 8,
     "metadata": {},
     "output_type": "execute_result"
    }
   ],
   "source": [
    "print type(co2_maunaLoa)\n",
    "co2_maunaLoa.head()"
   ]
  },
  {
   "cell_type": "code",
   "execution_count": 9,
   "metadata": {
    "collapsed": false
   },
   "outputs": [
    {
     "data": {
      "text/plain": [
       "<matplotlib.axes._subplots.AxesSubplot at 0x10468c3d0>"
      ]
     },
     "execution_count": 9,
     "metadata": {},
     "output_type": "execute_result"
    },
    {
     "data": {
      "image/png": "[encoded data removed]",
      "text/plain": [
       "<matplotlib.figure.Figure at 0x1079f67d0>"
      ]
     },
     "metadata": {},
     "output_type": "display_data"
    }
   ],
   "source": [
    "ts = pd.DataFrame(co2_maunaLoa, columns=['ML Monthly Average','ML Trend'])\n",
    "ts.plot(kind='line',figsize=(9,7))"
   ]
  },
  {
   "cell_type": "markdown",
   "metadata": {},
   "source": [
    "Axis and units\n",
    "\n",
    "ANALYZE CURVE: SEASONNAL CYCLE AND TREND. Who measured it? Is this an exponential rate of increase. Maybe make a log-log graph to check out.\n",
    "\n",
    "This is only from the Mauna Loa observatory, perched on top of a mountain in Hawai. Does the atmospheric CO<sub>2</sub> measured at Mauna Loa represent the whole Earth's atmospheric CO<sub>2</sub> concentration? It is said that CO<sub>2</sub> is a relatively well mixed gas in the atmosphere. Is this true? We can check it out!"
   ]
  },
  {
   "cell_type": "markdown",
   "metadata": {},
   "source": [
    "### Is CO<sub>2</sub> well-mixed in the atmosphere?"
   ]
  },
  {
   "cell_type": "markdown",
   "metadata": {},
   "source": [
    "Does the Mauna Loa record represent the global average or is there a bias? CO<sub>2</sub> is a well-mixed gas, meaning that its concentration doesn't vary too much from place to place in the atmosphere. We could test the validity of this statement by obtaining data from satellite missions that measure atmospheric CO<sub>2</sub> such as [OCO-2](http://oco.jpl.nasa.gov/), [AIRS](http://airs.jpl.nasa.gov/) and [others](https://co2.jpl.nasa.gov/), but the files we would have to download are very large and that isn't pratical in a jupyter notebook like this one. I will simply refer you to this awesome [video](https://www.youtube.com/watch?v=x1SgmFa0r04) of the GEOS-5 model depicting modelled CO<sub>2</sub> concentrations accross the globe during 2006. In the video, you can clearly see that CO<sub>2</sub> varies quite a bit from place to place, especially between the northern and southern hemispheres! But, if we average accross the whole globe, do we get a value that is well represented by that taken at Mauna Loa?\n",
    "\n",
    "To investigate that last question, we will download another dataset from NOAA. This time, it \n",
    "\n",
    "http://www.esrl.noaa.gov/gmd/ccgg/trends/history.html"
   ]
  },
  {
   "cell_type": "code",
   "execution_count": 10,
   "metadata": {
    "collapsed": false
   },
   "outputs": [
    {
     "name": "stdout",
     "output_type": "stream",
     "text": [
      "co2_mm_gl.txt checked out on Wed Jan 20 16:30:24 2016.\n"
     ]
    }
   ],
   "source": [
    "file = urllib.URLopener()\n",
    "txtfile = file.retrieve('ftp://aftp.cmdl.noaa.gov/products/trends/co2/co2_mm_gl.txt','co2_mm_gl.txt')\n",
    "print 'co2_mm_gl.txt checked out on '+time.ctime(os.path.getmtime('co2_mm_gl.txt'))+'.'\n",
    "\n",
    "content = []\n",
    "with open('co2_mm_gl.txt', 'r+') as f:\n",
    "    content=f.readlines()"
   ]
  },
  {
   "cell_type": "code",
   "execution_count": 11,
   "metadata": {
    "collapsed": false
   },
   "outputs": [],
   "source": [
    "standardize_txt('co2_mm_gl.txt','co2_mm_gl_stddel.txt',58)"
   ]
  },
  {
   "cell_type": "code",
   "execution_count": 12,
   "metadata": {
    "collapsed": true
   },
   "outputs": [],
   "source": [
    "co2_global = pd.read_csv('co2_mm_gl_stddel.txt',sep='    ', engine='python', comment='#', \\\n",
    "na_values=[-99.99,-1], names=['Year','Month','Decimal Date','Global Monthly Average','Global Trend'], \\\n",
    "parse_dates=['Decimal Date'], index_col=['Decimal Date'])"
   ]
  },
  {
   "cell_type": "code",
   "execution_count": 13,
   "metadata": {
    "collapsed": false
   },
   "outputs": [
    {
     "name": "stdout",
     "output_type": "stream",
     "text": [
      "<class 'pandas.core.frame.DataFrame'>\n"
     ]
    },
    {
     "data": {
      "text/html": [
       "<div style=\"max-height:1000px;max-width:1500px;overflow:auto;\">\n",
       "<table border=\"1\" class=\"dataframe\">\n",
       "  <thead>\n",
       "    <tr style=\"text-align: right;\">\n",
       "      <th></th>\n",
       "      <th>Year</th>\n",
       "      <th>Month</th>\n",
       "      <th>Global Monthly Average</th>\n",
       "      <th>Global Trend</th>\n",
       "    </tr>\n",
       "    <tr>\n",
       "      <th>Decimal Date</th>\n",
       "      <th></th>\n",
       "      <th></th>\n",
       "      <th></th>\n",
       "      <th></th>\n",
       "    </tr>\n",
       "  </thead>\n",
       "  <tbody>\n",
       "    <tr>\n",
       "      <th>1980.042</th>\n",
       "      <td> 1980</td>\n",
       "      <td> 1</td>\n",
       "      <td> 338.44</td>\n",
       "      <td> 337.82</td>\n",
       "    </tr>\n",
       "    <tr>\n",
       "      <th>1980.125</th>\n",
       "      <td> 1980</td>\n",
       "      <td> 2</td>\n",
       "      <td> 339.15</td>\n",
       "      <td> 338.10</td>\n",
       "    </tr>\n",
       "    <tr>\n",
       "      <th>1980.208</th>\n",
       "      <td> 1980</td>\n",
       "      <td> 3</td>\n",
       "      <td> 339.47</td>\n",
       "      <td> 338.13</td>\n",
       "    </tr>\n",
       "    <tr>\n",
       "      <th>1980.292</th>\n",
       "      <td> 1980</td>\n",
       "      <td> 4</td>\n",
       "      <td> 339.86</td>\n",
       "      <td> 338.25</td>\n",
       "    </tr>\n",
       "    <tr>\n",
       "      <th>1980.375</th>\n",
       "      <td> 1980</td>\n",
       "      <td> 5</td>\n",
       "      <td> 340.30</td>\n",
       "      <td> 338.78</td>\n",
       "    </tr>\n",
       "  </tbody>\n",
       "</table>\n",
       "</div>"
      ],
      "text/plain": [
       "              Year  Month  Global Monthly Average  Global Trend\n",
       "Decimal Date                                                   \n",
       "1980.042      1980      1                  338.44        337.82\n",
       "1980.125      1980      2                  339.15        338.10\n",
       "1980.208      1980      3                  339.47        338.13\n",
       "1980.292      1980      4                  339.86        338.25\n",
       "1980.375      1980      5                  340.30        338.78"
      ]
     },
     "execution_count": 13,
     "metadata": {},
     "output_type": "execute_result"
    }
   ],
   "source": [
    "print type(co2_global)\n",
    "co2_global.head()"
   ]
  },
  {
   "cell_type": "code",
   "execution_count": 14,
   "metadata": {
    "collapsed": false,
    "scrolled": false
   },
   "outputs": [
    {
     "data": {
      "text/html": [
       "<div style=\"max-height:1000px;max-width:1500px;overflow:auto;\">\n",
       "<table border=\"1\" class=\"dataframe\">\n",
       "  <thead>\n",
       "    <tr style=\"text-align: right;\">\n",
       "      <th></th>\n",
       "      <th>Global Monthly Average</th>\n",
       "      <th>ML Monthly Average</th>\n",
       "    </tr>\n",
       "    <tr>\n",
       "      <th>Decimal Date</th>\n",
       "      <th></th>\n",
       "      <th></th>\n",
       "    </tr>\n",
       "  </thead>\n",
       "  <tbody>\n",
       "    <tr>\n",
       "      <th>1958.208</th>\n",
       "      <td>NaN</td>\n",
       "      <td> 315.71</td>\n",
       "    </tr>\n",
       "    <tr>\n",
       "      <th>1958.292</th>\n",
       "      <td>NaN</td>\n",
       "      <td> 317.45</td>\n",
       "    </tr>\n",
       "    <tr>\n",
       "      <th>1958.375</th>\n",
       "      <td>NaN</td>\n",
       "      <td> 317.50</td>\n",
       "    </tr>\n",
       "    <tr>\n",
       "      <th>1958.458</th>\n",
       "      <td>NaN</td>\n",
       "      <td>    NaN</td>\n",
       "    </tr>\n",
       "    <tr>\n",
       "      <th>1958.542</th>\n",
       "      <td>NaN</td>\n",
       "      <td> 315.86</td>\n",
       "    </tr>\n",
       "  </tbody>\n",
       "</table>\n",
       "</div>"
      ],
      "text/plain": [
       "              Global Monthly Average  ML Monthly Average\n",
       "Decimal Date                                            \n",
       "1958.208                         NaN              315.71\n",
       "1958.292                         NaN              317.45\n",
       "1958.375                         NaN              317.50\n",
       "1958.458                         NaN                 NaN\n",
       "1958.542                         NaN              315.86"
      ]
     },
     "execution_count": 14,
     "metadata": {},
     "output_type": "execute_result"
    },
    {
     "data": {
      "image/png": "[encoded data removed]",
      "text/plain": [
       "<matplotlib.figure.Figure at 0x10845fbd0>"
      ]
     },
     "metadata": {},
     "output_type": "display_data"
    }
   ],
   "source": [
    "ts_maunaLoa = pd.DataFrame(co2_maunaLoa, columns=['ML Monthly Average'])\n",
    "ts_global = pd.DataFrame(co2_global, columns=['Global Monthly Average'])\n",
    "\n",
    "merged = pd.concat([ts_maunaLoa,ts_global])\n",
    "\n",
    "merged.plot(kind='line',figsize=(9,7))\n",
    "merged.head()"
   ]
  },
  {
   "cell_type": "markdown",
   "metadata": {},
   "source": [
    "Here we go! A quick look at both the Mauna Loa monthly average recorded CO<sub>2</sub> and NASA's computed global average CO<sub>2</sub> reveals the similarity of both data. Without being too quantitative, we can confidently say that the CO<sub>2</sub> recorded at Mauna Loa represents the global average within about 5 ppm. There is a small (2-3 ppm) bias towards underestimation during northern hemisphere winters.\n",
    "\n",
    "So, although the [video](https://www.youtube.com/watch?v=x1SgmFa0r04) of modelled CO<sub>2</sub> in the atmosphere clearly showed a fairly large spatial variations of CO<sub>2</sub> (~10-20 pppm range) over a timescale of days, Mauna Loa just happens to be in a good location to track the global monthly average CO<sub>2</sub> and, therefore, the global change over years."
   ]
  },
  {
   "cell_type": "markdown",
   "metadata": {},
   "source": [
    "### How did atmospheric CO<sub>2</sub> vary in the (recent) past?"
   ]
  },
  {
   "cell_type": "markdown",
   "metadata": {},
   "source": [
    "The Mauna Loa curve is interesting in itself, but we should put it in perspective to have a better idea of the scale of both the CO<sub>2</sub> change and the time in which it happened. To do that, we want data from archives of Earth's past climates: paleodata. So, where could we find information about the composition of an atmospheric trace gas captured thousands of years ago? We are in luck, scientists have already looked thouroughly at this and have found that large ice sheets, such as Antarctica and Greenland, contain trapped bubbles of air in the ice. They were able to date the air bubles by counting of annual layers in the ice, looking for distinct ash layers and various other dating techniques. The result showed that the Antarctic ice core record can extend back to about 800 000 years ago! That should give us a nice enough amount of time to compare to the Mauna Loa record extending only 60 years!\n",
    "\n",
    "Here, we will use data that comes not from a single ice core, but rather a composite from many ice cores that was assembled last year (2015) with the latest available data. You'll notice that all atmospheric CO<sub>2</sub> data comes from Antarctica; why not use Greenland's data also? It turns out that Greenland is fairly close to continents and this brought in a lot of dust during glacial periods, which interfered with the CO<sub>2</sub> trapped in air bubbles. Antarctica is so remote and isolated that it doesn't have this problem.\n",
    "\n",
    "By the way, I did undergrad research on paleoclimates of the glacial-interglacial periods. There are many more interesting things to learn from the past, and I might make a notebook or two on that subject later. For now, you just need to know that, for the past 1.8 million years, the Earth's climate has been oscillating between glacial periods lasting about 80 000 years and interglacials lasting about 20 000 years. We are currently in an interglacial period. Here's one site where you can [learn more](https://www.ncdc.noaa.gov/paleo/abrupt/data2.html).\n",
    "\n",
    "Ok, let's look at the data!"
   ]
  },
  {
   "cell_type": "code",
   "execution_count": 15,
   "metadata": {
    "collapsed": false
   },
   "outputs": [],
   "source": [
    "lateQuaternaryCO2 = pd.read_csv('ftp://ftp.ncdc.noaa.gov/pub/data/paleo/icecore/antarctica/\\\n",
    "antarctica2015co2composite.txt', sep='\\t', engine='python', comment='#', header=1, index_col=['age_gas_calBP'])"
   ]
  },
  {
   "cell_type": "code",
   "execution_count": 16,
   "metadata": {
    "collapsed": false
   },
   "outputs": [
    {
     "name": "stdout",
     "output_type": "stream",
     "text": [
      "<class 'pandas.core.frame.DataFrame'>\n"
     ]
    },
    {
     "data": {
      "text/html": [
       "<div style=\"max-height:1000px;max-width:1500px;overflow:auto;\">\n",
       "<table border=\"1\" class=\"dataframe\">\n",
       "  <thead>\n",
       "    <tr style=\"text-align: right;\">\n",
       "      <th></th>\n",
       "      <th>co2_ppm</th>\n",
       "      <th>co2_1s_ppm</th>\n",
       "    </tr>\n",
       "    <tr>\n",
       "      <th>age_gas_calBP</th>\n",
       "      <th></th>\n",
       "      <th></th>\n",
       "    </tr>\n",
       "  </thead>\n",
       "  <tbody>\n",
       "    <tr>\n",
       "      <th>-51.03</th>\n",
       "      <td> 368.02</td>\n",
       "      <td> 0.06</td>\n",
       "    </tr>\n",
       "    <tr>\n",
       "      <th>-48.00</th>\n",
       "      <td> 361.78</td>\n",
       "      <td> 0.37</td>\n",
       "    </tr>\n",
       "    <tr>\n",
       "      <th>-46.28</th>\n",
       "      <td> 359.65</td>\n",
       "      <td> 0.10</td>\n",
       "    </tr>\n",
       "    <tr>\n",
       "      <th>-44.41</th>\n",
       "      <td> 357.11</td>\n",
       "      <td> 0.16</td>\n",
       "    </tr>\n",
       "    <tr>\n",
       "      <th>-43.08</th>\n",
       "      <td> 353.95</td>\n",
       "      <td> 0.04</td>\n",
       "    </tr>\n",
       "  </tbody>\n",
       "</table>\n",
       "</div>"
      ],
      "text/plain": [
       "               co2_ppm  co2_1s_ppm\n",
       "age_gas_calBP                     \n",
       "-51.03          368.02        0.06\n",
       "-48.00          361.78        0.37\n",
       "-46.28          359.65        0.10\n",
       "-44.41          357.11        0.16\n",
       "-43.08          353.95        0.04"
      ]
     },
     "execution_count": 16,
     "metadata": {},
     "output_type": "execute_result"
    }
   ],
   "source": [
    "print type(lateQuaternaryCO2)\n",
    "lateQuaternaryCO2.head()"
   ]
  },
  {
   "cell_type": "code",
   "execution_count": 17,
   "metadata": {
    "collapsed": false
   },
   "outputs": [
    {
     "data": {
      "text/plain": [
       "<matplotlib.lines.Line2D at 0x107983e90>"
      ]
     },
     "execution_count": 17,
     "metadata": {},
     "output_type": "execute_result"
    },
    {
     "data": {
      "image/png": "[encoded data removed]",
      "text/plain": [
       "<matplotlib.figure.Figure at 0x1082cfe90>"
      ]
     },
     "metadata": {},
     "output_type": "display_data"
    }
   ],
   "source": [
    "ts = pd.DataFrame(lateQuaternaryCO2['co2_ppm'])\n",
    "fig = ts[::-1].plot(kind='line', linewidth=1.5, figsize=(11,7))   # The [::-1] is to reverse the time axis\n",
    "plt.axhline(y=399, xmin=0, xmax=800000, linewidth=1, color = '0.5', ls='dashed')"
   ]
  },
  {
   "cell_type": "markdown",
   "metadata": {},
   "source": [
    "So, the y-axis is atmospheric CO<sub>2</sub> concentration infered from air bubles trapped in ice and the x-axis is the estimated age of these air bubbles in years before present (BP). Since ice accumulates in nice layers and are preserved for hundreds of thousands of years, we obtain this beautiful timeseries.\n",
    "\n",
    "Many interesting things to note here! We can see the glacial-interglacial cycles, where CO<sub>2</sub> is ~280 ppm during interglacials and reaches ~180 ppm at the end of glacial periods. Also, the last 4 cycles seem to have a larger amplitude than the previous ones. Whether this is an artefact of the way CO<sub>2</sub> was measured and infered or a real feature of the past 800 000 years would require more investigation.\n",
    "\n",
    "The latest bubbles recorded in Antarctic ice have a CO<sub>2</sub> concentration of 368 ppm. From the Mauna Loa curve plotted earlier, we can see this is about the value for year 2000. In 2015, we are now at about 400 ppm: the dahsed horizontal line at the top of the plot. It is now obvious that the current CO<sub>2</sub> value is the highest in the past 800 000 years at least. In the last 100 years, atmospheric CO<sub>2</sub> has increased by as much as the whole glacial-interglacial range of about 100 ppm!"
   ]
  },
  {
   "cell_type": "markdown",
   "metadata": {},
   "source": [
    "We can finally answer our question quite satisfactorily! \"Is CO<sub>2</sub> currently increasing?\" Yes! But we know even more! Atmospheric CO<sub>2</sub> levels are currently reaching values that are way above the 'normal' glacial-interglacial range. This is definitely a special interglacial period, to say the least! \n",
    "\n",
    "Humans really started spreading accross the globe during the last transition from glacial to interglacial about 18-10 ka (thousand years ago). We know that the industrial revolution, starting around the 19th century, was the start of fossil fuel burning. Could this be the source of added atmospheric CO<sub>2</sub>? Alternatively, could increasing CO<sub>2</sub> have nothing to do with humans? This is a topic we could explore eventually, but -*spoiler alert*- it definatelty has something to do with fossil fuel combustion amongst other human-related things. I won't do the math right now, but maybe later if we look at the Earth's carbon cycle."
   ]
  },
  {
   "cell_type": "markdown",
   "metadata": {},
   "source": [
    "We could be done now. But there's one last thing I'd like to know: are there any older archives of atmospheric CO<sub>2</sub> to give us a sense of what the Earth was like before the glacial-interglacial periods? The Earth *is* 4.5 billion years old after all! We only looked at the last 0.8 million years, a mere fraction of Earth's history (~0.04% of Earth's history)."
   ]
  },
  {
   "cell_type": "markdown",
   "metadata": {
    "collapsed": true
   },
   "source": [
    "### What about CO<sub>2</sub> in the deeper past?"
   ]
  },
  {
   "cell_type": "markdown",
   "metadata": {},
   "source": [
    "To investigate CO<sub>2</sub> at times older than 800 000 years ago, we have to look at a proxy that dates further back than air bubbles trapped in Antarctic ice. Scientists usually use isotopes in foraminifera, characteristic of stomata in fossilized leaves, fossilized liverworts (a type of moss) and others. These proxies are definitely not as reliable as ice core air bubbles, but they are our best-guess.\n",
    "\n",
    "Many scientific studies have been published regarding atmospheric CO<sub>2</sub> derived from various proxies over different time periods spanning the Cenozoic (last 65 million years). It would suck to have to compile all of these together right now. Fortunately, David J. Beerling and Dana L. Royer published an article in the journal Nature Geoscience in 2011 where they do precisely that. They compile various atmospheric CO<sub>2</sub> proxies and assess areas where they agree and disagree. Also, following good scientific etiquette, they publish their compiled data for public use! The article can be found [here](http://www.nature.com/ngeo/journal/v4/n7/abs/ngeo1186.html), with a full pdf free version [here](http://droyer.web.wesleyan.edu/Beerling_Royer_Cenozoic_CO2_Nature_Geoscience.pdf) and the official publicly available dataset (which we will use) [here](http://www.nature.com/ngeo/journal/v4/n7/extref/ngeo1186-s1.xls)."
   ]
  },
  {
   "cell_type": "code",
   "execution_count": 18,
   "metadata": {
    "collapsed": false
   },
   "outputs": [],
   "source": [
    "cenozoicco2 = pd.read_excel('http://www.nature.com/ngeo/journal/v4/n7/extref/ngeo1186-s1.xls',header=1,\\\n",
    "skip_footer=55,na_values=['flat probability between lower and upper bounds','[unbounded]'])"
   ]
  },
  {
   "cell_type": "code",
   "execution_count": 19,
   "metadata": {
    "collapsed": false,
    "scrolled": true
   },
   "outputs": [
    {
     "name": "stdout",
     "output_type": "stream",
     "text": [
      "<class 'pandas.core.frame.DataFrame'>\n"
     ]
    },
    {
     "data": {
      "text/html": [
       "<div style=\"max-height:1000px;max-width:1500px;overflow:auto;\">\n",
       "<table border=\"1\" class=\"dataframe\">\n",
       "  <thead>\n",
       "    <tr style=\"text-align: right;\">\n",
       "      <th></th>\n",
       "      <th>Method</th>\n",
       "      <th>Study</th>\n",
       "      <th>Age (Ma)</th>\n",
       "      <th>Age, - limit (Ma)</th>\n",
       "      <th>Age, + limit (Ma)</th>\n",
       "      <th>CO2 (ppm)</th>\n",
       "      <th>CO2, - limit (ppm)</th>\n",
       "      <th>CO2, + limit (ppm)</th>\n",
       "    </tr>\n",
       "  </thead>\n",
       "  <tbody>\n",
       "    <tr>\n",
       "      <th>0</th>\n",
       "      <td>         Boron</td>\n",
       "      <td> Seki et al., 2010</td>\n",
       "      <td> 0.00390</td>\n",
       "      <td>NaN</td>\n",
       "      <td>NaN</td>\n",
       "      <td> 266.121444</td>\n",
       "      <td> 249.174355</td>\n",
       "      <td> 283.068533</td>\n",
       "    </tr>\n",
       "    <tr>\n",
       "      <th>1</th>\n",
       "      <td> Phytoplankton</td>\n",
       "      <td> Seki et al., 2010</td>\n",
       "      <td> 0.19990</td>\n",
       "      <td>NaN</td>\n",
       "      <td>NaN</td>\n",
       "      <td> 288.876169</td>\n",
       "      <td> 262.908426</td>\n",
       "      <td> 314.843912</td>\n",
       "    </tr>\n",
       "    <tr>\n",
       "      <th>2</th>\n",
       "      <td> Phytoplankton</td>\n",
       "      <td> Seki et al., 2010</td>\n",
       "      <td> 0.25345</td>\n",
       "      <td>NaN</td>\n",
       "      <td>NaN</td>\n",
       "      <td> 245.768594</td>\n",
       "      <td> 223.675890</td>\n",
       "      <td> 267.861298</td>\n",
       "    </tr>\n",
       "    <tr>\n",
       "      <th>3</th>\n",
       "      <td>         Boron</td>\n",
       "      <td> Seki et al., 2010</td>\n",
       "      <td> 0.45630</td>\n",
       "      <td>NaN</td>\n",
       "      <td>NaN</td>\n",
       "      <td> 293.382510</td>\n",
       "      <td> 265.371289</td>\n",
       "      <td> 321.393730</td>\n",
       "    </tr>\n",
       "    <tr>\n",
       "      <th>4</th>\n",
       "      <td> Phytoplankton</td>\n",
       "      <td> Seki et al., 2010</td>\n",
       "      <td> 0.45630</td>\n",
       "      <td>NaN</td>\n",
       "      <td>NaN</td>\n",
       "      <td> 255.079903</td>\n",
       "      <td> 232.150184</td>\n",
       "      <td> 278.009622</td>\n",
       "    </tr>\n",
       "  </tbody>\n",
       "</table>\n",
       "</div>"
      ],
      "text/plain": [
       "          Method              Study  Age (Ma)  Age, - limit (Ma)  \\\n",
       "0          Boron  Seki et al., 2010   0.00390                NaN   \n",
       "1  Phytoplankton  Seki et al., 2010   0.19990                NaN   \n",
       "2  Phytoplankton  Seki et al., 2010   0.25345                NaN   \n",
       "3          Boron  Seki et al., 2010   0.45630                NaN   \n",
       "4  Phytoplankton  Seki et al., 2010   0.45630                NaN   \n",
       "\n",
       "   Age, + limit (Ma)   CO2 (ppm)  CO2, - limit (ppm)  CO2, + limit (ppm)  \n",
       "0                NaN  266.121444          249.174355          283.068533  \n",
       "1                NaN  288.876169          262.908426          314.843912  \n",
       "2                NaN  245.768594          223.675890          267.861298  \n",
       "3                NaN  293.382510          265.371289          321.393730  \n",
       "4                NaN  255.079903          232.150184          278.009622  "
      ]
     },
     "execution_count": 19,
     "metadata": {},
     "output_type": "execute_result"
    }
   ],
   "source": [
    "print type(cenozoicco2)\n",
    "cenozoicco2.head()"
   ]
  },
  {
   "cell_type": "markdown",
   "metadata": {},
   "source": [
    "So far, we could plot everything using the pandas wrapper, but since we now want to color markers according to the string in the 'Method' column and we want colorbars, we will need to use matplotlib directly as it is much more flexible."
   ]
  },
  {
   "cell_type": "code",
   "execution_count": 20,
   "metadata": {
    "collapsed": false
   },
   "outputs": [
    {
     "name": "stdout",
     "output_type": "stream",
     "text": [
      "[ 16  37  39  40  77 291]\n",
      "[u'Nahcolite' u'Lowenstein & Demicco, 2006' 49.6 0.0 1.6999999999999957 nan\n",
      " nan nan]\n"
     ]
    }
   ],
   "source": [
    "cenozoicco2_np, cenozoicco2_np_final = cenozoicco2.values, cenozoicco2.values\n",
    "\n",
    "# Calculate errors\n",
    "cenozoicco2_np[:,3] = abs(cenozoicco2_np[:,3]-cenozoicco2_np[:,2])\n",
    "cenozoicco2_np[:,4] = abs(cenozoicco2_np[:,4]-cenozoicco2_np[:,2])\n",
    "cenozoicco2_np[:,6] = abs(cenozoicco2_np[:,6]-cenozoicco2_np[:,5])\n",
    "cenozoicco2_np[:,7] = abs(cenozoicco2_np[:,7]-cenozoicco2_np[:,5])\n",
    "\n",
    "# Sort by value in 'Method' (column 0)\n",
    "cenozoicco2_np_final = cenozoicco2_np[cenozoicco2_np[:,0].argsort()]\n",
    "\n",
    "# Find indexes where value in column 0 changes\n",
    "print np.where(cenozoicco2_np_final[:-1,0] != cenozoicco2_np_final[1:,0])[0]\n",
    "\n",
    "print cenozoicco2_np_final[40,:]"
   ]
  },
  {
   "cell_type": "markdown",
   "metadata": {},
   "source": [
    "# Use pandas grouby!!!:\n",
    "https://github.com/jreback/PyDataNYC2015/blob/master/tutorial/3.%20Groupby.ipynb\n"
   ]
  },
  {
   "cell_type": "code",
   "execution_count": 21,
   "metadata": {
    "collapsed": false,
    "scrolled": true
   },
   "outputs": [
    {
     "name": "stdout",
     "output_type": "stream",
     "text": [
      "[[2.6000000000000014]\n",
      " [3.6000000000000014]]\n",
      "[[299.1654]\n",
      " [775.2945]]\n"
     ]
    },
    {
     "data": {
      "text/plain": [
       "<matplotlib.text.Text at 0x1085747d0>"
      ]
     },
     "execution_count": 21,
     "metadata": {},
     "output_type": "execute_result"
    },
    {
     "data": {
      "image/png": "[encoded data removed]",
      "text/plain": [
       "<matplotlib.figure.Figure at 0x1084b2390>"
      ]
     },
     "metadata": {},
     "output_type": "display_data"
    }
   ],
   "source": [
    "print cenozoicco2_np_final[38:40,3:4]\n",
    "print cenozoicco2_np_final[38:40,6:7]\n",
    "\n",
    "fig, ax = plt.subplots(figsize=(13,8))\n",
    "#ax.errorbar(cenozoicco2_np_final[0:17,2], cenozoicco2_np_final[0:17,5], \\\n",
    "#            xerr=cenozoicco2_np_final[0:17,3:4], yerr=cenozoicco2_np_final[0:17,6:7], \\\n",
    "#            ms=8, fmt='+', color='#FF99CC', elinewidth=0.6, capsize=1, ecolor='0.7', \\\n",
    "#            alpha=0.9, label='B/Ca')\n",
    "#ax.errorbar(cenozoicco2_np_final[17:38,2], cenozoicco2_np_final[17:38,5], \\\n",
    "#            xerr=cenozoicco2_np_final[17:38,3:4], yerr=cenozoicco2_np_final[17:38,6:7], \\\n",
    "#            ms=8, fmt='v', color='#1975FF', elinewidth=0.6, capsize=1, ecolor='0.7', \\\n",
    "#            alpha=0.9, label='Boron')\n",
    "#ax.errorbar(cenozoicco2_np_final[38:40,2], cenozoicco2_np_final[38:40,5], \\\n",
    "#            xerr=cenozoicco2_np_final[38:40,3:4], yerr=cenozoicco2_np_final[38:40,6:7], \\\n",
    "#            ms=8, fmt='^', color='y', elinewidth=0.6, capsize=1, ecolor='0.7', \\\n",
    "#            alpha=0.9, label='Liverworts')\n",
    "ax.errorbar(cenozoicco2_np_final[40,2], cenozoicco2_np_final[40,5], \\\n",
    "            xerr=cenozoicco2_np_final[40,3:4], yerr=cenozoicco2_np_final[40,6:7], \\\n",
    "            ms=8, fmt='s', color='k', elinewidth=0.6, capsize=1, ecolor='0.7', \\\n",
    "            alpha=0.9, label='Nahcolite')\n",
    "#ax.errorbar(cenozoicco2_np_final[41:78,2], cenozoicco2_np_final[41:78,5], \\\n",
    "#            xerr=cenozoicco2_np_final[41:78,3:4], yerr=cenozoicco2_np_final[41:78,6:7], \\\n",
    "#            ms=7, fmt='o', color='0.7', elinewidth=0.6, capsize=1, ecolor='0.7', \\\n",
    "#            alpha=0.9, label='Paleosols')\n",
    "#ax.errorbar(cenozoicco2_np_final[78:292,2], cenozoicco2_np_final[78:292,5], \\\n",
    "#            xerr=cenozoicco2_np_final[78:292,3:4], yerr=cenozoicco2_np_final[78:292,6:7], \\\n",
    "#            ms=7, fmt='D', color='#B12B2B', elinewidth=0.6, capsize=1, ecolor='0.7', \\\n",
    "#            alpha=0.85, label='Phytoplankton')\n",
    "#ax.errorbar(cenozoicco2_np_final[292:371,2], cenozoicco2_np_final[292:371,5], \\\n",
    "#            xerr=cenozoicco2_np_final[292:371,3:4], yerr=cenozoicco2_np_final[292:371,6:7], \\\n",
    "#            ms=7, fmt='s', color='#70C670', elinewidth=0.6, capsize=1, ecolor='0.7', \\\n",
    "#            alpha=0.85, label='Stomata')\n",
    "\n",
    "plt.axhline(y=400, xmin=0, xmax=1, linewidth=1, color = '0.5', ls='dashed')\n",
    "plt.axhline(y=170, xmin=0.7, xmax=1, linewidth=2.5, color = 'k', alpha=0.3)\n",
    "plt.axhline(y=280, xmin=0.7, xmax=1, linewidth=2.5, color = 'k', alpha=0.3)\n",
    "ax.legend()\n",
    "plt.xlim((70,0)); plt.ylim((0,2000))\n",
    "plt.xlabel('Age (Myr ago)'); plt.ylabel('Atmospheric CO_2 (ppm)')"
   ]
  },
  {
   "cell_type": "markdown",
   "metadata": {},
   "source": [
    "NOTE THE ABRUPTNESS OF CURRENT CHANGE RELATIVE TO THE SMOOTH CHANGES OF THE PAST."
   ]
  },
  {
   "cell_type": "markdown",
   "metadata": {},
   "source": [
    "If you are interested in reading a good summary of the evolution of the global climate of the Cenozoic (past 65 million years), I suggest reading the highly cited [Zachos review paper](http://www.sciencemag.org/content/292/5517/686.short) pulished in Science in 2001, with a full pdf free version [here](http://cmbc.ucsd.edu/content/1/docs/zachos-2001.pdf). It's a bit technical, but not as much as other papers can be, and if you read it carefully, you may start to understand some of the challenges and insights of paleoclimatology."
   ]
  },
  {
   "cell_type": "markdown",
   "metadata": {},
   "source": [
    "### Conclusions"
   ]
  },
  {
   "cell_type": "markdown",
   "metadata": {},
   "source": [
    "Certain things are now very clear. CO<sub>2</sub> concentrations have been measured in the modern atmosphere since the 1960's at the Mauna Loa observatory in Hawai. The values recorded there are representative of the global average concentration. The trend is increasing at what appears to be an exponential rate and CO<sub>2</sub> concentrations are now about 25% higher than they were in 1960 (from 320ppm in 1960 to 400ppm in 2015). When we look into records of past atmospheric CO<sub>2</sub> values for perspective, the abruptness of the recent increase becomes very obvious. And althought the Earth has probably seen CO<sub>2</sub> values well above the current value, it seems safe to say that the current rate of change is unprecedented. So, we have shown here that, whatever the cause and implication, atmospheric CO<sub>2</sub> is increasing at a rate that has probably never been seen in the Earth's recent history (past 800 000 years) and possibly even in its whole history. Determining the cause of this abrupt change in atmospheric CO<sub>2</sub> would require an in-depth analysis of the carbon cycle. We can look at this in another notebook, but I'm fairly certain that if we do the math, fossil fuel combustion and land use change are the biggest causal factors (see IPCC reports and many other scientific articles). "
   ]
  },
  {
   "cell_type": "code",
   "execution_count": null,
   "metadata": {
    "collapsed": true
   },
   "outputs": [],
   "source": []
  }
 ],
 "metadata": {
  "kernelspec": {
   "display_name": "Python 2",
   "language": "python",
   "name": "python2"
  },
  "language_info": {
   "codemirror_mode": {
    "name": "ipython",
    "version": 2
   },
   "file_extension": ".py",
   "mimetype": "text/x-python",
   "name": "python",
   "nbconvert_exporter": "python",
   "pygments_lexer": "ipython2",
   "version": "2.7.11"
  }
 },
 "nbformat": 4,
 "nbformat_minor": 0
}
